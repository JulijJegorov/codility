{
 "cells": [
  {
   "cell_type": "markdown",
   "metadata": {},
   "source": [
    "### Triangle"
   ]
  },
  {
   "cell_type": "markdown",
   "metadata": {},
   "source": [
    "https://app.codility.com/programmers/lessons/6-sorting/triangle/"
   ]
  },
  {
   "cell_type": "markdown",
   "metadata": {},
   "source": [
    "** Solution **"
   ]
  },
  {
   "cell_type": "code",
   "execution_count": 2,
   "metadata": {
    "collapsed": false
   },
   "outputs": [],
   "source": [
    "def solution( int_array ):\n",
    "    ''' Check if triangular exists '''\n",
    "\n",
    "    if len( int_array ) == 0:\n",
    "        return 0\n",
    "    \n",
    "    int_array.sort()\n",
    "    \n",
    "    for idx in range( len( int_array ) - 2 ):\n",
    "        if (( int_array[ idx ] + int_array[ idx + 1 ]  > int_array[ idx + 2 ] ) and\n",
    "            ( int_array[ idx ] + int_array[ idx + 2 ]  > int_array[ idx + 1 ] ) and\n",
    "            ( int_array[ idx + 1 ] + int_array[ idx + 2 ]  > int_array[ idx ] )):\n",
    "            return 1\n",
    "    return 0"
   ]
  },
  {
   "cell_type": "markdown",
   "metadata": {},
   "source": [
    "** Test **"
   ]
  },
  {
   "cell_type": "code",
   "execution_count": 3,
   "metadata": {
    "collapsed": false
   },
   "outputs": [
    {
     "name": "stdout",
     "output_type": "stream",
     "text": [
      "Triangular exists: 0\n"
     ]
    }
   ],
   "source": [
    "int_array = [10, 50, 5, 1] \n",
    "print( 'Triangular exists: %s' % solution( int_array ) )"
   ]
  }
 ],
 "metadata": {
  "anaconda-cloud": {},
  "kernelspec": {
   "display_name": "Python [conda env:tensorflow]",
   "language": "python",
   "name": "conda-env-tensorflow-py"
  },
  "language_info": {
   "codemirror_mode": {
    "name": "ipython",
    "version": 3
   },
   "file_extension": ".py",
   "mimetype": "text/x-python",
   "name": "python",
   "nbconvert_exporter": "python",
   "pygments_lexer": "ipython3",
   "version": "3.5.3"
  }
 },
 "nbformat": 4,
 "nbformat_minor": 2
}
