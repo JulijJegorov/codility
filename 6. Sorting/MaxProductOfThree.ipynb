{
 "cells": [
  {
   "cell_type": "markdown",
   "metadata": {},
   "source": [
    "### MaxProductOfThree"
   ]
  },
  {
   "cell_type": "markdown",
   "metadata": {},
   "source": [
    "https://app.codility.com/programmers/lessons/6-sorting/max_product_of_three/"
   ]
  },
  {
   "cell_type": "markdown",
   "metadata": {},
   "source": [
    "** Solution **"
   ]
  },
  {
   "cell_type": "code",
   "execution_count": 47,
   "metadata": {
    "collapsed": false
   },
   "outputs": [],
   "source": [
    "def solution( int_array ):\n",
    "    ''' Get maximum product of 3 elements '''\n",
    "\n",
    "    if len( int_array ) == 0:\n",
    "        return 0\n",
    "    \n",
    "    int_array.sort()\n",
    "    return max( int_array[ 0 ] * int_array[ 1 ] * int_array[ 2 ] ,\n",
    "              int_array[ -1 ] * int_array[ -2 ] * int_array[ -3 ], \n",
    "              int_array[ 0 ] * int_array[ 1 ] * int_array[ -1 ] )"
   ]
  },
  {
   "cell_type": "markdown",
   "metadata": {},
   "source": [
    "** Test **"
   ]
  },
  {
   "cell_type": "code",
   "execution_count": 45,
   "metadata": {
    "collapsed": false
   },
   "outputs": [
    {
     "name": "stdout",
     "output_type": "stream",
     "text": [
      "Maximum product: 60\n"
     ]
    }
   ],
   "source": [
    "int_array = [ -3, 1, 2, -2, 5, 6] \n",
    "print( 'Maximum product: %s' % solution( int_array ) )"
   ]
  }
 ],
 "metadata": {
  "anaconda-cloud": {},
  "kernelspec": {
   "display_name": "Python [conda env:tensorflow]",
   "language": "python",
   "name": "conda-env-tensorflow-py"
  },
  "language_info": {
   "codemirror_mode": {
    "name": "ipython",
    "version": 3
   },
   "file_extension": ".py",
   "mimetype": "text/x-python",
   "name": "python",
   "nbconvert_exporter": "python",
   "pygments_lexer": "ipython3",
   "version": "3.5.3"
  }
 },
 "nbformat": 4,
 "nbformat_minor": 2
}
