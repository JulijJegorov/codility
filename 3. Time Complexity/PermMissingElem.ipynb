{
 "cells": [
  {
   "cell_type": "markdown",
   "metadata": {},
   "source": [
    "### PermMissingElem"
   ]
  },
  {
   "cell_type": "markdown",
   "metadata": {},
   "source": [
    "https://app.codility.com/programmers/lessons/3-time_complexity/perm_missing_elem/"
   ]
  },
  {
   "cell_type": "markdown",
   "metadata": {},
   "source": [
    "** Solution **"
   ]
  },
  {
   "cell_type": "code",
   "execution_count": 86,
   "metadata": {
    "collapsed": false
   },
   "outputs": [],
   "source": [
    "def _sumConsecutiveIntegers( N ):\n",
    "    ''' Sum consecutive integers, e.g. [ 1, 2, 3, ... N ] '''\n",
    "    return ( ( N + 1 ) * N ) // 2\n",
    "\n",
    "def solution( int_array ):\n",
    "    ''' Find missing element '''\n",
    "    \n",
    "    if  len( int_array ) == 0 :\n",
    "        return 1\n",
    "    \n",
    "    max_int = 0\n",
    "    sum_all = 0\n",
    "    for int_number in int_array:\n",
    "        max_int = max( max_int, int_number )\n",
    "        sum_all = sum_all + int_number   \n",
    "        \n",
    "    sum_cons = _sumConsecutiveIntegers( max_int )\n",
    "    \n",
    "    if sum_cons == sum_all:\n",
    "        return max_int + 1\n",
    "    else:\n",
    "        return sum_cons - sum_all"
   ]
  },
  {
   "cell_type": "markdown",
   "metadata": {},
   "source": [
    "** Test **"
   ]
  },
  {
   "cell_type": "code",
   "execution_count": 87,
   "metadata": {
    "collapsed": false
   },
   "outputs": [
    {
     "name": "stdout",
     "output_type": "stream",
     "text": [
      "Missing element: 4\n"
     ]
    }
   ],
   "source": [
    "int_array = [ 1, 2, 3, 5 ]\n",
    "print( 'Missing element: %s' % solution( int_array ) )"
   ]
  }
 ],
 "metadata": {
  "anaconda-cloud": {},
  "kernelspec": {
   "display_name": "Python [conda env:tensorflow]",
   "language": "python",
   "name": "conda-env-tensorflow-py"
  },
  "language_info": {
   "codemirror_mode": {
    "name": "ipython",
    "version": 3
   },
   "file_extension": ".py",
   "mimetype": "text/x-python",
   "name": "python",
   "nbconvert_exporter": "python",
   "pygments_lexer": "ipython3",
   "version": "3.5.3"
  }
 },
 "nbformat": 4,
 "nbformat_minor": 2
}
