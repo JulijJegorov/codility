{
 "cells": [
  {
   "cell_type": "markdown",
   "metadata": {},
   "source": [
    "### TapeEquilibrium"
   ]
  },
  {
   "cell_type": "markdown",
   "metadata": {},
   "source": [
    "https://app.codility.com/programmers/lessons/3-time_complexity/tape_equilibrium/"
   ]
  },
  {
   "cell_type": "markdown",
   "metadata": {},
   "source": [
    "** Solution **"
   ]
  },
  {
   "cell_type": "code",
   "execution_count": 96,
   "metadata": {
    "collapsed": false
   },
   "outputs": [],
   "source": [
    "def solution( int_array ):\n",
    "\n",
    "    len_array = len( int_array ) \n",
    "    sum_array = [ 0 ] * len_array \n",
    "    for idx, int_number in enumerate( int_array ):\n",
    "        sum_array[ idx ] = sum_array[ max( 0 , ( idx - 1 ) )] + int_number  \n",
    "    \n",
    "    min_difference = float( 'inf' )\n",
    "    for idx in range( len( sum_array ) -1 ):\n",
    "        abs_difference = abs( sum_array[ idx ] - ( sum_array[ len_array -1 ] -sum_array[ idx ] ) )\n",
    "        min_difference = min( min_difference, abs_difference  )\n",
    "          \n",
    "    return min_difference"
   ]
  },
  {
   "cell_type": "markdown",
   "metadata": {},
   "source": [
    "** Test **"
   ]
  },
  {
   "cell_type": "code",
   "execution_count": 97,
   "metadata": {
    "collapsed": false,
    "scrolled": true
   },
   "outputs": [
    {
     "name": "stdout",
     "output_type": "stream",
     "text": [
      "Minimum Difference: 1\n"
     ]
    }
   ],
   "source": [
    "int_array = [ 3, 1, 2, 4, 3 ]\n",
    "print( 'Minimum Difference: %s' %  solution( int_array ) )"
   ]
  }
 ],
 "metadata": {
  "anaconda-cloud": {},
  "kernelspec": {
   "display_name": "Python [conda env:tensorflow]",
   "language": "python",
   "name": "conda-env-tensorflow-py"
  },
  "language_info": {
   "codemirror_mode": {
    "name": "ipython",
    "version": 3
   },
   "file_extension": ".py",
   "mimetype": "text/x-python",
   "name": "python",
   "nbconvert_exporter": "python",
   "pygments_lexer": "ipython3",
   "version": "3.5.3"
  }
 },
 "nbformat": 4,
 "nbformat_minor": 2
}
