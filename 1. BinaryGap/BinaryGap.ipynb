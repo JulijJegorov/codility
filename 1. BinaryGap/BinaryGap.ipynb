{
 "cells": [
  {
   "cell_type": "markdown",
   "metadata": {},
   "source": [
    "### BinaryGap"
   ]
  },
  {
   "cell_type": "markdown",
   "metadata": {
    "collapsed": true
   },
   "source": [
    "https://app.codility.com/programmers/lessons/1-iterations/binary_gap/"
   ]
  },
  {
   "cell_type": "markdown",
   "metadata": {},
   "source": [
    "** Solution **"
   ]
  },
  {
   "cell_type": "code",
   "execution_count": 10,
   "metadata": {
    "collapsed": true
   },
   "outputs": [],
   "source": [
    "def _getLastDigit( int_number ):\n",
    "    ''' Get last digit from the binary representation of integer '''\n",
    "    return int_number % 2\n",
    "\n",
    "def _removeZeroDigits( int_number ):\n",
    "    ''' Remove zero trailing zero digits from the RHS '''\n",
    "    last_digit = _getLastDigit( int_number )\n",
    "    if last_digit == 1 or int_number == 0:\n",
    "       return int_number\n",
    "  \n",
    "    return _removeZeroDigits( int_number // 2 )\n",
    "    \n",
    "\n",
    "def solution( int_number ):\n",
    "    ''' Estiamte binary gap '''\n",
    "    bin_gap = 0\n",
    "    t_bin_gap = 0\n",
    "    \n",
    "    int_number = _removeZeroDigits( int_number )\n",
    "    \n",
    "    while int_number > 0:\n",
    "        last_digit = _getLastDigit( int_number )\n",
    "            \n",
    "        if last_digit == 0:\n",
    "            t_bin_gap = t_bin_gap + 1\n",
    "        else:\n",
    "            bin_gap = max( bin_gap, t_bin_gap )    \n",
    "            t_bin_gap = 0\n",
    "            \n",
    "        int_number = int_number // 2\n",
    "            \n",
    "    return bin_gap"
   ]
  },
  {
   "cell_type": "markdown",
   "metadata": {},
   "source": [
    "**Test**"
   ]
  },
  {
   "cell_type": "code",
   "execution_count": 12,
   "metadata": {
    "collapsed": false
   },
   "outputs": [
    {
     "name": "stdout",
     "output_type": "stream",
     "text": [
      "Binary: 0b11, Last Digit: 1\n",
      "Binary: 0b11, Remove Zero Digits: 0b11\n",
      "Binary: 0b11, Binary Gap: 0\n"
     ]
    }
   ],
   "source": [
    "int_number = 3\n",
    "\n",
    "print( 'Binary: %s, Last Digit: %s' % ( bin( int_number ), _getLastDigit( int_number ) ) )\n",
    "print( 'Binary: %s, Remove Zero Digits: %s' % ( bin( int_number ), bin( _removeZeroDigits( int_number ) ) ) )\n",
    "print( 'Binary: %s, Binary Gap: %s' % ( bin( int_number ), solution( int_number ) ) ) "
   ]
  }
 ],
 "metadata": {
  "anaconda-cloud": {},
  "kernelspec": {
   "display_name": "Python [conda root]",
   "language": "python",
   "name": "conda-root-py"
  },
  "language_info": {
   "codemirror_mode": {
    "name": "ipython",
    "version": 2
   },
   "file_extension": ".py",
   "mimetype": "text/x-python",
   "name": "python",
   "nbconvert_exporter": "python",
   "pygments_lexer": "ipython2",
   "version": "2.7.13"
  }
 },
 "nbformat": 4,
 "nbformat_minor": 2
}
