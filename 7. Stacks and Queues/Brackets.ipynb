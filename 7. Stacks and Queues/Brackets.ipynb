{
 "cells": [
  {
   "cell_type": "markdown",
   "metadata": {},
   "source": [
    "### Brackets"
   ]
  },
  {
   "cell_type": "markdown",
   "metadata": {},
   "source": [
    "https://app.codility.com/programmers/lessons/7-stacks_and_queues/brackets/"
   ]
  },
  {
   "cell_type": "markdown",
   "metadata": {},
   "source": [
    "** Solution **"
   ]
  },
  {
   "cell_type": "code",
   "execution_count": 48,
   "metadata": {
    "collapsed": true
   },
   "outputs": [],
   "source": [
    "MAPPINGS = { '(' : ')', '{' : '}', '[' : ']' }\n",
    "\n",
    "def solution( input_chars ):\n",
    "    ''' Check if string is properly nested '''\n",
    "    stack = list()\n",
    "    for char in input_chars:  \n",
    "        if char in MAPPINGS.keys():\n",
    "            stack.append( char )\n",
    "        else:\n",
    "            if len(stack) == 0:\n",
    "                return 0\n",
    "            \n",
    "            elif not char == MAPPINGS[ stack.pop() ]:\n",
    "                return 0\n",
    "            \n",
    "    return int( len( stack ) == 0 )"
   ]
  },
  {
   "cell_type": "markdown",
   "metadata": {},
   "source": [
    "** Test **"
   ]
  },
  {
   "cell_type": "code",
   "execution_count": 49,
   "metadata": {
    "collapsed": false
   },
   "outputs": [
    {
     "name": "stdout",
     "output_type": "stream",
     "text": [
      "String is properly nested: 0\n"
     ]
    }
   ],
   "source": [
    "S = '<.aaa'\n",
    "print( 'String is properly nested: %s' % solution( S ) )"
   ]
  }
 ],
 "metadata": {
  "anaconda-cloud": {},
  "kernelspec": {
   "display_name": "Python [conda env:tensorflow]",
   "language": "python",
   "name": "conda-env-tensorflow-py"
  },
  "language_info": {
   "codemirror_mode": {
    "name": "ipython",
    "version": 3
   },
   "file_extension": ".py",
   "mimetype": "text/x-python",
   "name": "python",
   "nbconvert_exporter": "python",
   "pygments_lexer": "ipython3",
   "version": "3.5.3"
  }
 },
 "nbformat": 4,
 "nbformat_minor": 2
}
