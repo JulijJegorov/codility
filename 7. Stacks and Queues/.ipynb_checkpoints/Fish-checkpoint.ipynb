{
 "cells": [
  {
   "cell_type": "markdown",
   "metadata": {},
   "source": [
    "### Fish"
   ]
  },
  {
   "cell_type": "markdown",
   "metadata": {},
   "source": [
    "https://app.codility.com/programmers/lessons/7-stacks_and_queues/fish/"
   ]
  },
  {
   "cell_type": "markdown",
   "metadata": {},
   "source": [
    "** Solution **"
   ]
  },
  {
   "cell_type": "code",
   "execution_count": 73,
   "metadata": {
    "collapsed": false
   },
   "outputs": [],
   "source": [
    "def solution( A, B ):\n",
    "    \n",
    "    stack = list() \n",
    "    stack.append( ( A[ 0 ], B[ 0 ] ) )\n",
    "    \n",
    "    for size, direction in zip( A[ 1: ], B[ 1: ] ):\n",
    "        size_old, direction_old = stack[ -1 ]\n",
    "        \n",
    "        if direction == 0 and direction_old == 1:\n",
    "            stack.pop()\n",
    "            \n",
    "            if size_old > size:\n",
    "                size, direction = size_old, direction_old\n",
    "  \n",
    "        stack.append( ( size, direction ) ) \n",
    "                  \n",
    "    return(  stack  )"
   ]
  },
  {
   "cell_type": "markdown",
   "metadata": {},
   "source": [
    "** Test **"
   ]
  },
  {
   "cell_type": "code",
   "execution_count": 75,
   "metadata": {
    "collapsed": false
   },
   "outputs": [
    {
     "name": "stdout",
     "output_type": "stream",
     "text": [
      "Number of fish: [(4, 0), (5, 0)]\n"
     ]
    }
   ],
   "source": [
    "A = [ 4, 3, 2, 1, 5 ]\n",
    "B = [ 0,1, 0, 0, 0 ]\n",
    "print( 'Number of fish: %s' % solution( A, B ) )"
   ]
  }
 ],
 "metadata": {
  "anaconda-cloud": {},
  "kernelspec": {
   "display_name": "Python [conda env:tensorflow]",
   "language": "python",
   "name": "conda-env-tensorflow-py"
  },
  "language_info": {
   "codemirror_mode": {
    "name": "ipython",
    "version": 3
   },
   "file_extension": ".py",
   "mimetype": "text/x-python",
   "name": "python",
   "nbconvert_exporter": "python",
   "pygments_lexer": "ipython3",
   "version": "3.5.3"
  }
 },
 "nbformat": 4,
 "nbformat_minor": 2
}
