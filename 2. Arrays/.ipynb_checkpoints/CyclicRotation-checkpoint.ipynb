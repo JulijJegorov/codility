{
 "cells": [
  {
   "cell_type": "markdown",
   "metadata": {},
   "source": [
    "### CyclicRotation"
   ]
  },
  {
   "cell_type": "markdown",
   "metadata": {},
   "source": [
    "https://app.codility.com/programmers/lessons/2-arrays/cyclic_rotation/"
   ]
  },
  {
   "cell_type": "markdown",
   "metadata": {},
   "source": [
    "** Solution **"
   ]
  },
  {
   "cell_type": "code",
   "execution_count": 23,
   "metadata": {
    "collapsed": false
   },
   "outputs": [],
   "source": [
    "def _rotation( int_array ):\n",
    "    ''' Rotate array once '''\n",
    "    if  not int_array == []:\n",
    "        last_element = int_array.pop()\n",
    "        int_array.insert( 0, last_element )\n",
    "    return int_array\n",
    "\n",
    "def solution( int_array, K ):\n",
    "    for _ in range( K ):\n",
    "        int_array = _rotation( int_array )\n",
    "    return int_array"
   ]
  },
  {
   "cell_type": "markdown",
   "metadata": {},
   "source": [
    "** Test **"
   ]
  },
  {
   "cell_type": "code",
   "execution_count": 27,
   "metadata": {
    "collapsed": false
   },
   "outputs": [
    {
     "name": "stdout",
     "output_type": "stream",
     "text": [
      "Rotated once: [4, 1, 2, 3]\n",
      "Rotated K times: [1, 2, 3, 4]\n"
     ]
    }
   ],
   "source": [
    "K = 3\n",
    "int_array = [ 1, 2, 3, 4 ]\n",
    "\n",
    "print( 'Rotated once: %s' %  _rotation( int_array ) )\n",
    "print( 'Rotated K times: %s' %  solution( int_array, K ) )"
   ]
  }
 ],
 "metadata": {
  "anaconda-cloud": {},
  "kernelspec": {
   "display_name": "Python [conda env:tensorflow]",
   "language": "python",
   "name": "conda-env-tensorflow-py"
  },
  "language_info": {
   "codemirror_mode": {
    "name": "ipython",
    "version": 3
   },
   "file_extension": ".py",
   "mimetype": "text/x-python",
   "name": "python",
   "nbconvert_exporter": "python",
   "pygments_lexer": "ipython3",
   "version": "3.5.3"
  }
 },
 "nbformat": 4,
 "nbformat_minor": 2
}
