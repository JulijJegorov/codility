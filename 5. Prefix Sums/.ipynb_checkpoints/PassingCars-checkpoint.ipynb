{
 "cells": [
  {
   "cell_type": "markdown",
   "metadata": {},
   "source": [
    "### PassingCars"
   ]
  },
  {
   "cell_type": "markdown",
   "metadata": {},
   "source": [
    "https://app.codility.com/programmers/lessons/5-prefix_sums/passing_cars/"
   ]
  },
  {
   "cell_type": "markdown",
   "metadata": {},
   "source": [
    "** Solution **"
   ]
  },
  {
   "cell_type": "code",
   "execution_count": 38,
   "metadata": {
    "collapsed": false
   },
   "outputs": [],
   "source": [
    "def _prefixSums( int_array ):\n",
    "    ''' Calculate prefix sums '''\n",
    "    \n",
    "    prefix_sums = [ 0 ] * ( len( int_array ) + 1 )\n",
    "    for idx, int_number in enumerate( int_array, 1 ):\n",
    "        prefix_sums[ idx ] =  prefix_sums[ idx -1 ] + int_number\n",
    "    return prefix_sums\n",
    "\n",
    "def solution( int_array ):\n",
    "    ''' Count passing cars '''\n",
    "    prefix_sums = _prefixSums( int_array )\n",
    "    counter = 0\n",
    "    for idx, int_number in enumerate( int_array, 0 ):\n",
    "        if int_number == 0:\n",
    "           counter += prefix_sums[ -1 ] - prefix_sums[ idx ]\n",
    "    return -1 if counter > 10**9 else counter"
   ]
  },
  {
   "cell_type": "markdown",
   "metadata": {},
   "source": [
    "** Test **"
   ]
  },
  {
   "cell_type": "code",
   "execution_count": 31,
   "metadata": {
    "collapsed": false
   },
   "outputs": [
    {
     "name": "stdout",
     "output_type": "stream",
     "text": [
      "Prefix sums: [0, 0, 1, 1, 2, 3]\n",
      "Pssing cars: 5\n"
     ]
    }
   ],
   "source": [
    "int_array = [ 0, 1, 0, 1, 1 ]\n",
    "print( 'Prefix sums: %s' % _prefixSums( int_array ) )\n",
    "print( 'Pssing cars: %s' % solution( int_array ) )"
   ]
  }
 ],
 "metadata": {
  "anaconda-cloud": {},
  "kernelspec": {
   "display_name": "Python [conda env:tensorflow]",
   "language": "python",
   "name": "conda-env-tensorflow-py"
  },
  "language_info": {
   "codemirror_mode": {
    "name": "ipython",
    "version": 3
   },
   "file_extension": ".py",
   "mimetype": "text/x-python",
   "name": "python",
   "nbconvert_exporter": "python",
   "pygments_lexer": "ipython3",
   "version": "3.5.3"
  }
 },
 "nbformat": 4,
 "nbformat_minor": 2
}
