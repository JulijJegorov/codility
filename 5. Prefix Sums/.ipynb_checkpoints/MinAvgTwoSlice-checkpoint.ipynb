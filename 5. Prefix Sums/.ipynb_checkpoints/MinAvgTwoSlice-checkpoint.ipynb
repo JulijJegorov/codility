{
 "cells": [
  {
   "cell_type": "markdown",
   "metadata": {},
   "source": [
    "### MinAvgTwoSlice"
   ]
  },
  {
   "cell_type": "markdown",
   "metadata": {},
   "source": [
    "https://app.codility.com/programmers/lessons/5-prefix_sums/min_avg_two_slice/"
   ]
  },
  {
   "cell_type": "markdown",
   "metadata": {},
   "source": [
    "** Solution **"
   ]
  },
  {
   "cell_type": "code",
   "execution_count": 144,
   "metadata": {
    "collapsed": false
   },
   "outputs": [],
   "source": [
    "def _prefixSums( int_array ):\n",
    "    ''' Calculate prefix sums '''\n",
    "    \n",
    "    prefix_sums = [ 0 ] * ( len( int_array ) + 1 )\n",
    "    for idx, int_number in enumerate( int_array, 1 ):\n",
    "        prefix_sums[ idx ] =  prefix_sums[ idx - 1 ] + int_number\n",
    "    return prefix_sums\n",
    "\n",
    "def solution( int_array ):\n",
    "    ''' Estimate minimum average index '''\n",
    "    \n",
    "    prefix_sums = _prefixSums( int_array )\n",
    "    N = len( int_array )\n",
    "    average_min_idx = 0\n",
    "    average_min = ( prefix_sums[ 2 ] - prefix_sums[ 0 ] ) / 2.0\n",
    "\n",
    "    for idx in range( 0, N - 1 ):\n",
    "        average_two = ( prefix_sums[ idx + 2 ] - prefix_sums[ idx ] ) / 2.0\n",
    "        if not ( idx + 3 ) >  N:\n",
    "            average_tree = ( prefix_sums[ idx + 3 ] - prefix_sums[ idx ] ) / 3.0\n",
    "        else:\n",
    "            average_tree = average_two\n",
    "            \n",
    "        t_average_min = min( average_two, average_tree )\n",
    "        \n",
    "        if average_min > t_average_min:\n",
    "            average_min = t_average_min\n",
    "            average_min_idx = idx\n",
    "                            \n",
    "    return average_min_idx"
   ]
  },
  {
   "cell_type": "markdown",
   "metadata": {},
   "source": [
    "** Test **"
   ]
  },
  {
   "cell_type": "code",
   "execution_count": 147,
   "metadata": {
    "collapsed": false,
    "scrolled": false
   },
   "outputs": [
    {
     "name": "stdout",
     "output_type": "stream",
     "text": [
      "Prefix sums: [0, 4, 6, 8, 13, 14, 19, 27]\n",
      "Minimum average index: 1\n"
     ]
    }
   ],
   "source": [
    "int_array = [ 4, 2, 2, 5, 1, 5, 8 ]\n",
    "print( 'Prefix sums: %s' % _prefixSums( int_array ) )\n",
    "print( 'Minimum average index: %s' % solution( int_array ) )"
   ]
  }
 ],
 "metadata": {
  "anaconda-cloud": {},
  "kernelspec": {
   "display_name": "Python [conda env:tensorflow]",
   "language": "python",
   "name": "conda-env-tensorflow-py"
  },
  "language_info": {
   "codemirror_mode": {
    "name": "ipython",
    "version": 3
   },
   "file_extension": ".py",
   "mimetype": "text/x-python",
   "name": "python",
   "nbconvert_exporter": "python",
   "pygments_lexer": "ipython3",
   "version": "3.5.3"
  }
 },
 "nbformat": 4,
 "nbformat_minor": 2
}
