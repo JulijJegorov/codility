{
 "cells": [
  {
   "cell_type": "markdown",
   "metadata": {
    "collapsed": true
   },
   "source": [
    "### GenomicRangeQuery"
   ]
  },
  {
   "cell_type": "markdown",
   "metadata": {},
   "source": [
    "https://app.codility.com/programmers/lessons/5-prefix_sums/genomic_range_query/"
   ]
  },
  {
   "cell_type": "markdown",
   "metadata": {},
   "source": [
    "** Solution **"
   ]
  },
  {
   "cell_type": "code",
   "execution_count": 152,
   "metadata": {
    "collapsed": false
   },
   "outputs": [],
   "source": [
    "MAPPING_DICT = { 'A' : 1, 'C' : 2, 'G' : 3, 'T' : 4 }\n",
    "\n",
    "def _prefixSums( nucleotides ):\n",
    "    ''' Calculate prefix sums of occurances '''\n",
    "    \n",
    "    S = list( nucleotides )\n",
    "    N = len( nucleotides ) + 1 \n",
    "    prefix_sums = [ [ 0 ] * N , [ 0 ] * N , [ 0 ] * N , [ 0 ] * N  ]\n",
    "    for idx, nucleotide in enumerate( S, 1 ):\n",
    "        impact_factor = MAPPING_DICT[ nucleotide ] - 1 \n",
    "        for factor_idx in range( 4 ):\n",
    "            if factor_idx == impact_factor:\n",
    "                prefix_sums[ factor_idx ][ idx ] = prefix_sums[ factor_idx ][ idx - 1  ]  + 1\n",
    "            else:\n",
    "                prefix_sums[ factor_idx ][ idx ] = prefix_sums[ factor_idx ][ idx - 1  ]      \n",
    "    return( prefix_sums )\n",
    "\n",
    "\n",
    "def solution( S, P, Q ):\n",
    "    ''' Estimate impact factors '''\n",
    "    \n",
    "    prefix_sums = _prefixSums( S )\n",
    "    N = len( P )\n",
    "    impact_factors = list()\n",
    "    for p_idx, q_idx in zip( P, Q ):\n",
    "        first_occurance = 0\n",
    "        impact_factor = 0\n",
    "        while first_occurance == 0:\n",
    "            first_occurance = prefix_sums[ impact_factor ][ q_idx + 1 ] - prefix_sums[ impact_factor ][p_idx]\n",
    "            impact_factor += 1\n",
    "       \n",
    "        impact_factors.append( impact_factor )\n",
    "        \n",
    "    return impact_factors"
   ]
  },
  {
   "cell_type": "markdown",
   "metadata": {},
   "source": [
    "** Test **"
   ]
  },
  {
   "cell_type": "code",
   "execution_count": 153,
   "metadata": {
    "collapsed": false
   },
   "outputs": [
    {
     "name": "stdout",
     "output_type": "stream",
     "text": [
      "Prefix sums: [[0, 0, 1, 1, 1, 1, 1, 2], [0, 1, 1, 1, 2, 3, 3, 3], [0, 0, 0, 1, 1, 1, 1, 1], [0, 0, 0, 0, 0, 0, 1, 1]]\n",
      "Impact factors: [2, 4, 1]\n"
     ]
    }
   ],
   "source": [
    "S = 'CAGCCTA'\n",
    "P = [ 2, 5, 0 ]\n",
    "Q = [ 4, 5, 6 ]\n",
    "print( 'Prefix sums: %s' % _prefixSums( S ) )\n",
    "print( 'Impact factors: %s' % solution( S, P, Q ) )"
   ]
  }
 ],
 "metadata": {
  "anaconda-cloud": {},
  "kernelspec": {
   "display_name": "Python [conda env:tensorflow]",
   "language": "python",
   "name": "conda-env-tensorflow-py"
  },
  "language_info": {
   "codemirror_mode": {
    "name": "ipython",
    "version": 3
   },
   "file_extension": ".py",
   "mimetype": "text/x-python",
   "name": "python",
   "nbconvert_exporter": "python",
   "pygments_lexer": "ipython3",
   "version": "3.5.3"
  }
 },
 "nbformat": 4,
 "nbformat_minor": 2
}
