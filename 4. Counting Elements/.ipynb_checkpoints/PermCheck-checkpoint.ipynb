{
 "cells": [
  {
   "cell_type": "markdown",
   "metadata": {},
   "source": [
    "### PermCheck"
   ]
  },
  {
   "cell_type": "markdown",
   "metadata": {},
   "source": [
    "https://app.codility.com/programmers/lessons/4-counting_elements/perm_check/"
   ]
  },
  {
   "cell_type": "markdown",
   "metadata": {},
   "source": [
    "** Solution ** "
   ]
  },
  {
   "cell_type": "code",
   "execution_count": 23,
   "metadata": {
    "collapsed": true
   },
   "outputs": [],
   "source": [
    "def solution( int_array ):\n",
    "    ''' Check if array is a permutation'''\n",
    "    \n",
    "    N = len( int_array )\n",
    "    counter_array = [ 0 ] * N\n",
    "    \n",
    "    for int_number in int_array:\n",
    "        \n",
    "        if int_number > N or counter_array[ int_number - 1 ] == 1:\n",
    "            return 0\n",
    "        else:\n",
    "            counter_array[ int_number - 1 ] = 1\n",
    "    return 1\n",
    "    "
   ]
  },
  {
   "cell_type": "markdown",
   "metadata": {},
   "source": [
    "** Test **"
   ]
  },
  {
   "cell_type": "code",
   "execution_count": 26,
   "metadata": {
    "collapsed": false
   },
   "outputs": [
    {
     "name": "stdout",
     "output_type": "stream",
     "text": [
      "Is permutation: True\n"
     ]
    }
   ],
   "source": [
    "int_array = [ 2, 1, 4, 3]\n",
    "print( 'Is permutation: %s' % bool( solution( int_array ) ) )"
   ]
  }
 ],
 "metadata": {
  "anaconda-cloud": {},
  "kernelspec": {
   "display_name": "Python [conda env:tensorflow]",
   "language": "python",
   "name": "conda-env-tensorflow-py"
  },
  "language_info": {
   "codemirror_mode": {
    "name": "ipython",
    "version": 3
   },
   "file_extension": ".py",
   "mimetype": "text/x-python",
   "name": "python",
   "nbconvert_exporter": "python",
   "pygments_lexer": "ipython3",
   "version": "3.5.3"
  }
 },
 "nbformat": 4,
 "nbformat_minor": 2
}
