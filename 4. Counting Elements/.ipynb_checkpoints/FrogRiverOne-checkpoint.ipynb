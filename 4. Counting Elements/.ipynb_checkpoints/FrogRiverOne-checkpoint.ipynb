{
 "cells": [
  {
   "cell_type": "markdown",
   "metadata": {},
   "source": [
    "### FrogRiverOne"
   ]
  },
  {
   "cell_type": "markdown",
   "metadata": {},
   "source": [
    "https://app.codility.com/programmers/lessons/4-counting_elements/frog_river_one/"
   ]
  },
  {
   "cell_type": "markdown",
   "metadata": {},
   "source": [
    "** Solution **"
   ]
  },
  {
   "cell_type": "code",
   "execution_count": 31,
   "metadata": {
    "collapsed": false
   },
   "outputs": [],
   "source": [
    "def solution( X, int_array ):\n",
    "    ''' Estiamte earliest crossing time '''\n",
    "    \n",
    "    counter_array = [ float( 'inf' ) ] * X\n",
    "    for idx, int_number in enumerate( int_array ):\n",
    "        counter_array[ int_number - 1 ] = min( counter_array[ int_number - 1 ], idx )\n",
    "    \n",
    "    max_time = max( counter_array ) \n",
    "    \n",
    "    return -1 if max_time == float( 'inf' ) else max_time"
   ]
  },
  {
   "cell_type": "markdown",
   "metadata": {},
   "source": [
    "** Test **"
   ]
  },
  {
   "cell_type": "code",
   "execution_count": 33,
   "metadata": {
    "collapsed": false
   },
   "outputs": [
    {
     "name": "stdout",
     "output_type": "stream",
     "text": [
      "Earliest crossing time: 6\n"
     ]
    }
   ],
   "source": [
    "X = 5\n",
    "int_array = [ 1, 3, 1, 4, 2, 3, 5, 4]\n",
    "print( 'Earliest crossing time: %s' % solution( X, int_array ) )"
   ]
  }
 ],
 "metadata": {
  "anaconda-cloud": {},
  "kernelspec": {
   "display_name": "Python [conda env:tensorflow]",
   "language": "python",
   "name": "conda-env-tensorflow-py"
  },
  "language_info": {
   "codemirror_mode": {
    "name": "ipython",
    "version": 3
   },
   "file_extension": ".py",
   "mimetype": "text/x-python",
   "name": "python",
   "nbconvert_exporter": "python",
   "pygments_lexer": "ipython3",
   "version": "3.5.3"
  }
 },
 "nbformat": 4,
 "nbformat_minor": 2
}
